{
  "nbformat": 4,
  "nbformat_minor": 0,
  "metadata": {
    "colab": {
      "name": "Spell Check Indonesia using Pre-trained Fasttext Model",
      "provenance": [],
      "collapsed_sections": [],
      "toc_visible": true,
      "machine_shape": "hm",
      "include_colab_link": true
    },
    "kernelspec": {
      "name": "python3",
      "display_name": "Python 3"
    }
  },
  "cells": [
    {
      "cell_type": "markdown",
      "metadata": {
        "id": "view-in-github",
        "colab_type": "text"
      },
      "source": [
        "<a href=\"https://colab.research.google.com/github/irfankkhairullah/-spacecoffee-index.html/blob/master/Spell_Check_Indonesia_using_Pre_trained_Fasttext_Model.ipynb\" target=\"_parent\"><img src=\"https://colab.research.google.com/assets/colab-badge.svg\" alt=\"Open In Colab\"/></a>"
      ]
    },
    {
      "cell_type": "markdown",
      "metadata": {
        "id": "Q9etRHgCslAu"
      },
      "source": [
        "# Spell Check Indonesia using Pre-trained Fasttext Model\n",
        "\n",
        "Author: Yasir Abdur Rohman <br>\n",
        "GitHub: [@yasirabd](https://github.com/yasirabd)\n",
        "___\n",
        "Code ini terinspirasi oleh Kaggle master [@CPMPML](https://www.kaggle.com/cpmpml) yang membuat Spell Check Bahasa Inggris dengan menggunakan Word2Vec dari *pre-trained* model GoogleNews. Maka, Saya tertarik untuk membuat Spell Check Bahasa Indonesia dengan Word2Vec dari *pre-trained* model Fasttext. "
      ]
    },
    {
      "cell_type": "markdown",
      "metadata": {
        "id": "l_djDKOuvf0i"
      },
      "source": [
        "## Upgrade/Install Gensim"
      ]
    },
    {
      "cell_type": "code",
      "metadata": {
        "id": "j4qHc_T7wOGe",
        "colab": {
          "base_uri": "https://localhost:8080/",
          "height": 326
        },
        "outputId": "0c4ba180-8418-4b5f-d4df-fea36aa7ad2c"
      },
      "source": [
        "!pip install --upgrade gensim"
      ],
      "execution_count": null,
      "outputs": [
        {
          "output_type": "stream",
          "text": [
            "Requirement already up-to-date: gensim in /usr/local/lib/python3.6/dist-packages (3.8.1)\n",
            "Requirement already satisfied, skipping upgrade: numpy>=1.11.3 in /usr/local/lib/python3.6/dist-packages (from gensim) (1.17.5)\n",
            "Requirement already satisfied, skipping upgrade: six>=1.5.0 in /usr/local/lib/python3.6/dist-packages (from gensim) (1.12.0)\n",
            "Requirement already satisfied, skipping upgrade: smart-open>=1.8.1 in /usr/local/lib/python3.6/dist-packages (from gensim) (1.9.0)\n",
            "Requirement already satisfied, skipping upgrade: scipy>=0.18.1 in /usr/local/lib/python3.6/dist-packages (from gensim) (1.4.1)\n",
            "Requirement already satisfied, skipping upgrade: boto3 in /usr/local/lib/python3.6/dist-packages (from smart-open>=1.8.1->gensim) (1.11.15)\n",
            "Requirement already satisfied, skipping upgrade: boto>=2.32 in /usr/local/lib/python3.6/dist-packages (from smart-open>=1.8.1->gensim) (2.49.0)\n",
            "Requirement already satisfied, skipping upgrade: requests in /usr/local/lib/python3.6/dist-packages (from smart-open>=1.8.1->gensim) (2.21.0)\n",
            "Requirement already satisfied, skipping upgrade: s3transfer<0.4.0,>=0.3.0 in /usr/local/lib/python3.6/dist-packages (from boto3->smart-open>=1.8.1->gensim) (0.3.3)\n",
            "Requirement already satisfied, skipping upgrade: jmespath<1.0.0,>=0.7.1 in /usr/local/lib/python3.6/dist-packages (from boto3->smart-open>=1.8.1->gensim) (0.9.4)\n",
            "Requirement already satisfied, skipping upgrade: botocore<1.15.0,>=1.14.15 in /usr/local/lib/python3.6/dist-packages (from boto3->smart-open>=1.8.1->gensim) (1.14.15)\n",
            "Requirement already satisfied, skipping upgrade: urllib3<1.25,>=1.21.1 in /usr/local/lib/python3.6/dist-packages (from requests->smart-open>=1.8.1->gensim) (1.24.3)\n",
            "Requirement already satisfied, skipping upgrade: certifi>=2017.4.17 in /usr/local/lib/python3.6/dist-packages (from requests->smart-open>=1.8.1->gensim) (2019.11.28)\n",
            "Requirement already satisfied, skipping upgrade: idna<2.9,>=2.5 in /usr/local/lib/python3.6/dist-packages (from requests->smart-open>=1.8.1->gensim) (2.8)\n",
            "Requirement already satisfied, skipping upgrade: chardet<3.1.0,>=3.0.2 in /usr/local/lib/python3.6/dist-packages (from requests->smart-open>=1.8.1->gensim) (3.0.4)\n",
            "Requirement already satisfied, skipping upgrade: python-dateutil<3.0.0,>=2.1 in /usr/local/lib/python3.6/dist-packages (from botocore<1.15.0,>=1.14.15->boto3->smart-open>=1.8.1->gensim) (2.6.1)\n",
            "Requirement already satisfied, skipping upgrade: docutils<0.16,>=0.10 in /usr/local/lib/python3.6/dist-packages (from botocore<1.15.0,>=1.14.15->boto3->smart-open>=1.8.1->gensim) (0.15.2)\n"
          ],
          "name": "stdout"
        }
      ]
    },
    {
      "cell_type": "markdown",
      "metadata": {
        "id": "S5FDWf7DwUFT"
      },
      "source": [
        "## Dowload Pre-trained Fasttext Model Indonesia\n",
        "Pre-trained Fasttext model yang diunduh adalah hasil pelatihan menggunakan metode CBOW dengan *position-weight*, dalam dimensi 300, dengan panjang karakter n-gram sebesar 5, *window size* 5 dan *negatives* 10. Link kumpulan pre-trained model Fasttext dapat diunduh [disini](https://fasttext.cc/docs/en/crawl-vectors.html)."
      ]
    },
    {
      "cell_type": "code",
      "metadata": {
        "id": "lal8yF3ZwaI1",
        "colab": {
          "base_uri": "https://localhost:8080/",
          "height": 202
        },
        "outputId": "483d272d-4c9d-4547-c6d0-054bbf3ae3f4"
      },
      "source": [
        "! wget https://dl.fbaipublicfiles.com/fasttext/vectors-crawl/cc.id.300.bin.gz"
      ],
      "execution_count": null,
      "outputs": [
        {
          "output_type": "stream",
          "text": [
            "--2020-03-03 09:09:04--  https://dl.fbaipublicfiles.com/fasttext/vectors-crawl/cc.id.300.bin.gz\n",
            "Resolving dl.fbaipublicfiles.com (dl.fbaipublicfiles.com)... 104.20.22.166, 104.20.6.166, 2606:4700:10::6814:6a6, ...\n",
            "Connecting to dl.fbaipublicfiles.com (dl.fbaipublicfiles.com)|104.20.22.166|:443... connected.\n",
            "HTTP request sent, awaiting response... 200 OK\n",
            "Length: 4507049071 (4.2G) [application/octet-stream]\n",
            "Saving to: ‘cc.id.300.bin.gz’\n",
            "\n",
            "cc.id.300.bin.gz    100%[===================>]   4.20G  22.4MB/s    in 3m 23s  \n",
            "\n",
            "2020-03-03 09:12:28 (21.1 MB/s) - ‘cc.id.300.bin.gz’ saved [4507049071/4507049071]\n",
            "\n"
          ],
          "name": "stdout"
        }
      ]
    },
    {
      "cell_type": "markdown",
      "metadata": {
        "id": "_hS-rCSQrOSc"
      },
      "source": [
        "Extract model dengan menggunakan `gunzip`"
      ]
    },
    {
      "cell_type": "code",
      "metadata": {
        "id": "iBkTeM63xaTW"
      },
      "source": [
        "! gunzip cc.id.300.bin.gz"
      ],
      "execution_count": null,
      "outputs": []
    },
    {
      "cell_type": "markdown",
      "metadata": {
        "id": "_Zd21FzzwCQf"
      },
      "source": [
        "## Import Libraries"
      ]
    },
    {
      "cell_type": "code",
      "metadata": {
        "id": "kbplJ_-3wBrI"
      },
      "source": [
        "import io\n",
        "import time\n",
        "from datetime import timedelta\n",
        "import logging\n",
        "logging.basicConfig(level=logging.INFO)\n",
        "import gensim\n",
        "from gensim.models.wrappers import FastText"
      ],
      "execution_count": null,
      "outputs": []
    },
    {
      "cell_type": "markdown",
      "metadata": {
        "id": "2E7VUzM8pUw1"
      },
      "source": [
        "## Load Fasttext Model using Gensim\n",
        "Saat menjalankan fungsi `load_fasttext_format` membutuhkan RAM yang besar. Dengan default RAM Google Colab sebesar 12 GB masih kurang, maka **harus** upgrade RAM hingga 25 GB dengan cara pilih *high-RAM runtime*."
      ]
    },
    {
      "cell_type": "code",
      "metadata": {
        "id": "aUnUmjULtn7F",
        "colab": {
          "base_uri": "https://localhost:8080/",
          "height": 85
        },
        "outputId": "93137483-5429-4153-f9f9-00c3c1c0bec5"
      },
      "source": [
        "model = FastText.load_fasttext_format('cc.id.300.bin')"
      ],
      "execution_count": null,
      "outputs": [
        {
          "output_type": "stream",
          "text": [
            "WARNING:gensim.models.deprecated.word2vec:Slow version of gensim.models.deprecated.word2vec is being used\n",
            "INFO:gensim.models.deprecated.fasttext_wrapper:loading 2000000 words for fastText model from cc.id.300.bin\n",
            "INFO:gensim.models.deprecated.fasttext_wrapper:loading weights for 2000000 words for fastText model from cc.id.300.bin\n",
            "INFO:gensim.models.deprecated.fasttext_wrapper:loaded (2000000, 300) weight matrix for fastText model from cc.id.300.bin\n"
          ],
          "name": "stderr"
        }
      ]
    },
    {
      "cell_type": "markdown",
      "metadata": {
        "id": "v326ob8Vs9BZ"
      },
      "source": [
        "Pada pre-trained model Fasttext terdapat 2.000.000 (dua juta) *vocabulary*"
      ]
    },
    {
      "cell_type": "code",
      "metadata": {
        "id": "ggJT0udTHH4l",
        "colab": {
          "base_uri": "https://localhost:8080/",
          "height": 34
        },
        "outputId": "21854d9f-0f4c-4eb3-a1e8-3d43023eeeb2"
      },
      "source": [
        "# check vocab pada pre-trained model\n",
        "vocab = model.wv.vocab\n",
        "len(vocab)"
      ],
      "execution_count": null,
      "outputs": [
        {
          "output_type": "execute_result",
          "data": {
            "text/plain": [
              "2000000"
            ]
          },
          "metadata": {
            "tags": []
          },
          "execution_count": 4
        }
      ]
    },
    {
      "cell_type": "code",
      "metadata": {
        "id": "KnRXJXHZKvAW",
        "colab": {
          "base_uri": "https://localhost:8080/",
          "height": 34
        },
        "outputId": "49189cb9-6550-43d6-edff-b85ed329d48b"
      },
      "source": [
        "# lihat 10 kata/karakter paling awal pada vocab\n",
        "list(model.wv.vocab)[:10]"
      ],
      "execution_count": null,
      "outputs": [
        {
          "output_type": "execute_result",
          "data": {
            "text/plain": [
              "[',', '.', '</s>', 'yang', 'dan', '\"', 'di', ')', '(', 'dengan']"
            ]
          },
          "metadata": {
            "tags": []
          },
          "execution_count": 5
        }
      ]
    },
    {
      "cell_type": "markdown",
      "metadata": {
        "id": "UYFqYJuUtXCS"
      },
      "source": [
        "## Create Index for each word in Vocabulary\n",
        "Buat *dictionary word-rank* pada tiap kata/karakter yang terdapat pada *vocabulary*. "
      ]
    },
    {
      "cell_type": "code",
      "metadata": {
        "id": "zJ3VWqFGLNB5"
      },
      "source": [
        "words = list(model.wv.vocab)\n",
        "\n",
        "w_rank = {}\n",
        "for i,word in enumerate(words):\n",
        "    w_rank[word] = i\n",
        "\n",
        "WORDS = w_rank"
      ],
      "execution_count": null,
      "outputs": []
    },
    {
      "cell_type": "code",
      "metadata": {
        "id": "l2CrJmBxLTPN",
        "colab": {
          "base_uri": "https://localhost:8080/",
          "height": 187
        },
        "outputId": "acfcde50-b572-42e4-9858-28ef204864e5"
      },
      "source": [
        "import itertools\n",
        "\n",
        "# cetak 10 word-rank teratas\n",
        "dict(itertools.islice(WORDS.items(), 10))"
      ],
      "execution_count": null,
      "outputs": [
        {
          "output_type": "execute_result",
          "data": {
            "text/plain": [
              "{'\"': 5,\n",
              " '(': 8,\n",
              " ')': 7,\n",
              " ',': 0,\n",
              " '.': 1,\n",
              " '</s>': 2,\n",
              " 'dan': 4,\n",
              " 'dengan': 9,\n",
              " 'di': 6,\n",
              " 'yang': 3}"
            ]
          },
          "metadata": {
            "tags": []
          },
          "execution_count": 9
        }
      ]
    },
    {
      "cell_type": "markdown",
      "metadata": {
        "id": "NNXMpi_2wLM0"
      },
      "source": [
        "## Peter Norvig Spelling Corrector\n",
        "Salah satu metode paling sederhana untuk Spelling Corrector adalah dengan metode yang diterapkan oleh [Peter Norvig.](https://norvig.com/spell-correct.html)\n",
        "\n",
        "### Perbedaan\n",
        "Terdapat perbedaaan pada code Peter Norvig dengan code CPMP untuk penerapan Spell Check. Perbedaannya jika menggunakan **code Peter Norvig dengan menghitung frekuensi dari tiap kata dari kamus**, sedangkan **code CPMP dengan menggunakan ranking dari Word2Vec model**.\n",
        "\n",
        "### Cara Kerja\n",
        "Spell Check ini menggunakan Teorema Bayes untuk menemukan *correction c* dengan memilih *probability* terbesar dari semua *probability candidate correction*. Metode tersebut dapat dijabarkan menjadi 4 bagian:\n",
        "1. **Selection Mechanism**: `argmax`, dengan memilih *candidate* yang memiliki *probability* terbesar.\n",
        "2. **Candidate Model:** `c ∈ candidates`, didapatkan *candidate corrections c*, untuk dipertimbangkan.\n",
        "3. **Languange Model**: `P(c)`, *probability* dari kemunculan *candidate corretion c* pada kamus. Pada penerapannya menggunakan kamus Word2Vec model.\n",
        "4. **Error Model**: `P(w|c)`, *probability* apabila yang diketik adalah kata *w* sedangkan yang dimaksud adalah *c*. Sebagai contoh, *probability* `P(mkan|makan)` lebih tinggi dibandingkan dengan *probability* `P(mkanxxxyz|makan)` yang lebih rendah."
      ]
    },
    {
      "cell_type": "code",
      "metadata": {
        "id": "y0YLTCGyLoXv"
      },
      "source": [
        "import re\n",
        "from collections import Counter\n",
        "\n",
        "def words(text): return re.findall(r'\\w+', text.lower())\n",
        "\n",
        "def P(word): \n",
        "    \"Probability of `word`.\"\n",
        "    # use inverse of rank as proxy\n",
        "    # returns 0 if the word isn't in the dictionary\n",
        "    return - WORDS.get(word, 0)\n",
        "\n",
        "def correction(word): \n",
        "    \"Most probable spelling correction for word.\"\n",
        "    return max(candidates(word), key=P)\n",
        "\n",
        "def candidates(word): \n",
        "    \"Generate possible spelling corrections for word.\"\n",
        "    return (known([word]) or known(edits1(word)) or known(edits2(word)) or [word])\n",
        "\n",
        "def known(words): \n",
        "    \"The subset of `words` that appear in the dictionary of WORDS.\"\n",
        "    return set(w for w in words if w in WORDS)\n",
        "\n",
        "def edits1(word):\n",
        "    \"All edits that are one edit away from `word`.\"\n",
        "    letters    = 'abcdefghijklmnopqrstuvwxyz'\n",
        "    splits     = [(word[:i], word[i:])    for i in range(len(word) + 1)]\n",
        "    deletes    = [L + R[1:]               for L, R in splits if R]\n",
        "    transposes = [L + R[1] + R[0] + R[2:] for L, R in splits if len(R)>1]\n",
        "    replaces   = [L + c + R[1:]           for L, R in splits if R for c in letters]\n",
        "    inserts    = [L + c + R               for L, R in splits for c in letters]\n",
        "    return set(deletes + transposes + replaces + inserts)\n",
        "\n",
        "def edits2(word): \n",
        "    \"All edits that are two edits away from `word`.\"\n",
        "    return (e2 for e1 in edits1(word) for e2 in edits1(e1))"
      ],
      "execution_count": null,
      "outputs": []
    },
    {
      "cell_type": "markdown",
      "metadata": {
        "id": "Zx18y6nz_GDo"
      },
      "source": [
        "## Spelling Test"
      ]
    },
    {
      "cell_type": "code",
      "metadata": {
        "id": "IDHpYOPjwwmB",
        "colab": {
          "base_uri": "https://localhost:8080/",
          "height": 34
        },
        "outputId": "6d306f1d-a145-4641-dea7-b804aa15c154"
      },
      "source": [
        "correction('kcingg')"
      ],
      "execution_count": null,
      "outputs": [
        {
          "output_type": "execute_result",
          "data": {
            "text/plain": [
              "'kucing'"
            ]
          },
          "metadata": {
            "tags": []
          },
          "execution_count": 12
        }
      ]
    },
    {
      "cell_type": "code",
      "metadata": {
        "id": "T0XySkklyrDB",
        "colab": {
          "base_uri": "https://localhost:8080/",
          "height": 34
        },
        "outputId": "20c6cdaa-c769-4d8d-b912-50af2e61fff2"
      },
      "source": [
        "correction('mnyedihknn')"
      ],
      "execution_count": null,
      "outputs": [
        {
          "output_type": "execute_result",
          "data": {
            "text/plain": [
              "'menyedihkan'"
            ]
          },
          "metadata": {
            "tags": []
          },
          "execution_count": 13
        }
      ]
    },
    {
      "cell_type": "code",
      "metadata": {
        "id": "JtRgVU0a_Zsn",
        "colab": {
          "base_uri": "https://localhost:8080/",
          "height": 34
        },
        "outputId": "53fd7f9d-0a85-4ec9-9c5b-b1674a8cb50d"
      },
      "source": [
        "correction('mrdeka ')"
      ],
      "execution_count": null,
      "outputs": [
        {
          "output_type": "execute_result",
          "data": {
            "text/plain": [
              "'merdeka'"
            ]
          },
          "metadata": {
            "tags": []
          },
          "execution_count": 16
        }
      ]
    },
    {
      "cell_type": "code",
      "metadata": {
        "id": "3n1lW1Uc_Mlj",
        "colab": {
          "base_uri": "https://localhost:8080/",
          "height": 34
        },
        "outputId": "3067fc70-30e4-43d0-a9e6-b415bd7484b8"
      },
      "source": [
        "correction('indonesa')"
      ],
      "execution_count": null,
      "outputs": [
        {
          "output_type": "execute_result",
          "data": {
            "text/plain": [
              "'indonesa'"
            ]
          },
          "metadata": {
            "tags": []
          },
          "execution_count": 14
        }
      ]
    },
    {
      "cell_type": "code",
      "metadata": {
        "id": "YaetgH4w_P28",
        "colab": {
          "base_uri": "https://localhost:8080/",
          "height": 34
        },
        "outputId": "464549a9-db7e-498e-d26a-7636f757d239"
      },
      "source": [
        "# kata 'indonesa' terdapat pada vocab\n",
        "'indonesa' in model.wv.vocab"
      ],
      "execution_count": null,
      "outputs": [
        {
          "output_type": "execute_result",
          "data": {
            "text/plain": [
              "True"
            ]
          },
          "metadata": {
            "tags": []
          },
          "execution_count": 15
        }
      ]
    },
    {
      "cell_type": "code",
      "metadata": {
        "id": "ad6UeYmJ_eDi",
        "colab": {
          "base_uri": "https://localhost:8080/",
          "height": 34
        },
        "outputId": "e28c025c-59d9-43c1-8bae-f3d2ef67cdd6"
      },
      "source": [
        "correction('jakata')"
      ],
      "execution_count": null,
      "outputs": [
        {
          "output_type": "execute_result",
          "data": {
            "text/plain": [
              "'jakata'"
            ]
          },
          "metadata": {
            "tags": []
          },
          "execution_count": 17
        }
      ]
    },
    {
      "cell_type": "code",
      "metadata": {
        "id": "oiMLjPXP_fq0",
        "colab": {
          "base_uri": "https://localhost:8080/",
          "height": 34
        },
        "outputId": "6f3888bc-75b5-47ff-8804-e810d06e679d"
      },
      "source": [
        "# kata 'jakata' terdapat pada vocab\n",
        "'jakata' in model.wv.vocab"
      ],
      "execution_count": null,
      "outputs": [
        {
          "output_type": "execute_result",
          "data": {
            "text/plain": [
              "True"
            ]
          },
          "metadata": {
            "tags": []
          },
          "execution_count": 19
        }
      ]
    },
    {
      "cell_type": "code",
      "metadata": {
        "id": "UpBUfx2A_lNJ",
        "colab": {
          "base_uri": "https://localhost:8080/",
          "height": 34
        },
        "outputId": "051d1841-ac3e-4171-d2fd-7eed4b0d1c50"
      },
      "source": [
        "correction('J4karta')"
      ],
      "execution_count": null,
      "outputs": [
        {
          "output_type": "execute_result",
          "data": {
            "text/plain": [
              "'Jakarta'"
            ]
          },
          "metadata": {
            "tags": []
          },
          "execution_count": 20
        }
      ]
    },
    {
      "cell_type": "markdown",
      "metadata": {
        "id": "WawfpBgh_psR"
      },
      "source": [
        "## Future Improvement\n",
        "- Masih banyak terdapat kata-kata yang tidak baku pada *word-vector* yang terdapat pada *pre-trained* model. Oleh karena itu, dibutuhkan validasi pada KBBI.\n",
        "- Pembuatan `testset` untuk Spell Check Bahasa Indonesia dikarenakan sampai saat ini *author* masih belum menemukan standar `testset` untuk *spelling corrector* Bahasa Indonesia."
      ]
    },
    {
      "cell_type": "code",
      "metadata": {
        "id": "9Kr7Gj7dttM5"
      },
      "source": [
        ""
      ],
      "execution_count": null,
      "outputs": []
    }
  ]
}